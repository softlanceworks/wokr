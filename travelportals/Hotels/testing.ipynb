{
    "cells": [
        {
            "cell_type": "code",
            "execution_count": 20,
            "source": [
                "import requests\n",
                "\n",
                "url=\"http://127.0.0.1:8000/api/hotels/1\"\n",
                "\n",
                "data=requests.get(url)\n",
                "print(data.status_code)\n",
                "print(data.content)\n",
                "\n",
                "data_new=[\n",
                "    {\n",
                "    \"id\":\"5\",\n",
                "    \"name\":\"ahul\",\n",
                "    \"description\":\"fffff\",\n",
                "    \"slug\":\"fffa\",\n",
                "\n",
                "\n",
                "}]\n",
                "\n",
                "payload=data_new\n",
                "\n",
                "print(payload)\n",
                "pos=requests.post(\"http://127.0.0.1:8000/api/hotels/\",data=payload)\n",
                "\n",
                "print(pos.text)\n",
                "\n"
            ],
            "outputs": [
                {
                    "output_type": "stream",
                    "name": "stdout",
                    "text": [
                        "200\n",
                        "b'{\"id\": 1, \"name\": \"river sidedd\", \"description\": \"Start and end in San Francisco! With the in-depth cultural tour Northern California Summer 2019, you have a 8 day tour package taking you through San Francisco, USA and 9 other destination\", \"slug\": \"ddddd\"}'\n",
                        "{'id': '5', 'name': 'ahul', 'description': 'fffff', 'slug': 'fffa'}\n",
                        "{\"detail\":\"JSON parse error - Expecting value: line 1 column 1 (char 0)\"}\n"
                    ]
                }
            ],
            "metadata": {}
        },
        {
            "cell_type": "code",
            "execution_count": null,
            "source": [],
            "outputs": [],
            "metadata": {}
        }
    ],
    "metadata": {
        "orig_nbformat": 4,
        "language_info": {
            "name": "python",
            "version": "3.9.5",
            "mimetype": "text/x-python",
            "codemirror_mode": {
                "name": "ipython",
                "version": 3
            },
            "pygments_lexer": "ipython3",
            "nbconvert_exporter": "python",
            "file_extension": ".py"
        },
        "kernelspec": {
            "name": "python3",
            "display_name": "Python 3.9.5 64-bit ('env': venv)"
        },
        "interpreter": {
            "hash": "d252601f46cba5c7d31d48e28cbe3db8254d5ec87f73ea58853fe9dd51db8464"
        }
    },
    "nbformat": 4,
    "nbformat_minor": 2
}